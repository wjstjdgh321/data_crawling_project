{
 "cells": [
  {
   "cell_type": "code",
   "execution_count": 1,
   "metadata": {},
   "outputs": [
    {
     "ename": "ModuleNotFoundError",
     "evalue": "No module named 'selenium'",
     "output_type": "error",
     "traceback": [
      "\u001b[1;31m---------------------------------------------------------------------------\u001b[0m",
      "\u001b[1;31mModuleNotFoundError\u001b[0m                       Traceback (most recent call last)",
      "\u001b[1;32m<ipython-input-1-2a34e415ab69>\u001b[0m in \u001b[0;36m<module>\u001b[1;34m()\u001b[0m\n\u001b[0;32m      3\u001b[0m \u001b[1;32mimport\u001b[0m \u001b[0mpandas\u001b[0m \u001b[1;32mas\u001b[0m \u001b[0mpd\u001b[0m\u001b[1;33m\u001b[0m\u001b[0m\n\u001b[0;32m      4\u001b[0m \u001b[1;32mimport\u001b[0m \u001b[0mdatetime\u001b[0m\u001b[1;33m\u001b[0m\u001b[0m\n\u001b[1;32m----> 5\u001b[1;33m \u001b[1;32mfrom\u001b[0m \u001b[0mselenium\u001b[0m \u001b[1;32mimport\u001b[0m \u001b[0mwebdriver\u001b[0m\u001b[1;33m\u001b[0m\u001b[0m\n\u001b[0m\u001b[0;32m      6\u001b[0m \u001b[1;32mimport\u001b[0m \u001b[0mtime\u001b[0m\u001b[1;33m\u001b[0m\u001b[0m\n\u001b[0;32m      7\u001b[0m \u001b[1;33m\u001b[0m\u001b[0m\n",
      "\u001b[1;31mModuleNotFoundError\u001b[0m: No module named 'selenium'"
     ]
    }
   ],
   "source": [
    "from bs4 import BeautifulSoup\n",
    "import urllib.request\n",
    "import pandas as pd\n",
    "import datetime\n",
    "from selenium import webdriver\n",
    "import time\n",
    "\n",
    "#[CODE 1]\n",
    "def Movie_rate(result):\n",
    "    Movie_URL = \"https://www.imdb.com/title/tt0499549/ratings/?ref_=tt_ov_rt\"\n",
    "    \n",
    "    wd = webdriver.Chrome('./WebDriver/chromedriver.exe')\n",
    "    \n",
    "    wd.get(Movie_URL)\n",
    "    time.sleep(1)  #웹페이지 연결할 동안 1초 대기\n",
    "    html = wd.page_source\n",
    "    soupMV = BeautifulSoup(html, 'html.parser')\n",
    "    \n",
    "    mv_rate = soupMV.select(\"#main > section > div > div.allText > div > table:nth-child(11) > tbody > tr:nth-child(2) > td.ratingTable.Selected > div.bigcell\")\n",
    "    rate = mv_rate[0].string\n",
    "    print(rate)\n",
    "    \n",
    "    mv_pop = soupMV.select(\"#main > section > div > div.allText > div > table:nth-child(11) > tbody > tr:nth-child(2) > td.ratingTable.Selected > div.smallcell > a\")\n",
    "    pop = mv_pop[0].string.strip()\n",
    "    print(pop)\n",
    "            \n",
    "    result.append([rate]+[pop])\n",
    "    \n",
    "    return\n",
    "\n",
    "#[CODE 0]\n",
    "def main():\n",
    "    result = []\n",
    "    print('Movie rating crawling >>>>>>>>>>>>>>>>>>>>>>>>>>')\n",
    "    Movie_rate(result)  #[CODE 1]\n",
    "    \n",
    "    MV_tbl = pd.DataFrame(result, columns=('rate', 'popularity'))\n",
    "    MV_tbl.to_csv('./MovieRate.csv', encoding='cp949', mode='w', index=True)\n",
    "\n",
    "if __name__ == '__main__':\n",
    "     main()\n"
   ]
  },
  {
   "cell_type": "code",
   "execution_count": null,
   "metadata": {},
   "outputs": [],
   "source": []
  }
 ],
 "metadata": {
  "kernelspec": {
   "display_name": "Python 3",
   "language": "python",
   "name": "python3"
  },
  "language_info": {
   "codemirror_mode": {
    "name": "ipython",
    "version": 3
   },
   "file_extension": ".py",
   "mimetype": "text/x-python",
   "name": "python",
   "nbconvert_exporter": "python",
   "pygments_lexer": "ipython3",
   "version": "3.7.0"
  }
 },
 "nbformat": 4,
 "nbformat_minor": 2
}
